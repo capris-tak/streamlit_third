{
 "cells": [
  {
   "cell_type": "code",
   "execution_count": null,
   "id": "a606c6f4-5c85-41d1-93f8-272b731f206d",
   "metadata": {},
   "outputs": [],
   "source": [
    "import streamlitas st\n",
    "import numpyas np\n",
    "import pandasas pd\n",
    "\n",
    "def app():\n",
    "    st.title('Data Stats')\n",
    "    st.write(\"This is a sample data stats in the mutliapp.\")\n",
    "    st.write(\"See `apps/data_stats.py` to know how to use it.\")\n",
    "    st.markdown(\"### Plot Data\")\n",
    "    df= pd.DataFrame(\n",
    "        np.random.rand(20,3),\n",
    "        columns=['a','b','c']\n",
    "    )\n",
    "\n",
    "    st.line_chart(df)"
   ]
  }
 ],
 "metadata": {
  "kernelspec": {
   "display_name": "Python 3 (ipykernel)",
   "language": "python",
   "name": "python3"
  },
  "language_info": {
   "codemirror_mode": {
    "name": "ipython",
    "version": 3
   },
   "file_extension": ".py",
   "mimetype": "text/x-python",
   "name": "python",
   "nbconvert_exporter": "python",
   "pygments_lexer": "ipython3",
   "version": "3.10.4"
  }
 },
 "nbformat": 4,
 "nbformat_minor": 5
}
