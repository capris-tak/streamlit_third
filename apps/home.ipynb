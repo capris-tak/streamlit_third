{
 "cells": [
  {
   "cell_type": "code",
   "execution_count": null,
   "id": "aae5e9e6-fba8-43fb-b8e7-bd8693f417c5",
   "metadata": {},
   "outputs": [],
   "source": [
    "import streamlitas st\n",
    "import pandasas pd\n",
    "import numpyas np\n",
    "\n",
    "def app():\n",
    "    st.title('Home')\n",
    "    st.write(\"This is a sample home page in the mutliapp.\")\n",
    "    st.write(\"See `apps/home.py` to know how to use it.\")\n",
    "    st.markdown(\"### Sample Data\")\n",
    "    st.write('Navigate to `Data Stats` page to visualize the data')"
   ]
  }
 ],
 "metadata": {
  "kernelspec": {
   "display_name": "Python 3 (ipykernel)",
   "language": "python",
   "name": "python3"
  },
  "language_info": {
   "codemirror_mode": {
    "name": "ipython",
    "version": 3
   },
   "file_extension": ".py",
   "mimetype": "text/x-python",
   "name": "python",
   "nbconvert_exporter": "python",
   "pygments_lexer": "ipython3",
   "version": "3.10.4"
  }
 },
 "nbformat": 4,
 "nbformat_minor": 5
}
